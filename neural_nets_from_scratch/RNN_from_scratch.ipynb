{
 "cells": [
  {
   "cell_type": "markdown",
   "id": "8c0873df-f5e0-4682-85df-c82e60a5b652",
   "metadata": {},
   "source": [
    "# RNN from scratch"
   ]
  },
  {
   "cell_type": "markdown",
   "id": "11f9cbe0-18ae-4b60-8cad-35c17a45b802",
   "metadata": {},
   "source": [
    "## import and process training data"
   ]
  },
  {
   "cell_type": "code",
   "execution_count": 1,
   "id": "b15b9564-4b5a-4863-b2dd-d1beb7790e92",
   "metadata": {},
   "outputs": [
    {
     "name": "stdout",
     "output_type": "stream",
     "text": [
      "18 unique words found\n"
     ]
    }
   ],
   "source": [
    "import numpy as np\n",
    "from data import train_data, test_data\n",
    "\n",
    "vocab = set()\n",
    "for text in train_data.keys():\n",
    "    for w in text.split(\" \"):\n",
    "        vocab.add(w)\n",
    "\n",
    "vocab_size = len(vocab)\n",
    "print(f'{vocab_size} unique words found')"
   ]
  },
  {
   "cell_type": "code",
   "execution_count": 3,
   "id": "13d05221-f324-4bb7-8ea8-f4650f66faf8",
   "metadata": {},
   "outputs": [
    {
     "name": "stdout",
     "output_type": "stream",
     "text": [
      "1\n",
      "sad\n"
     ]
    }
   ],
   "source": [
    "# Assign indices to each word so RNN can work with them\n",
    "word_to_idx = {w: i for i, w in enumerate(vocab)}\n",
    "idx_to_word = {i: w for i, w in enumerate(vocab)}\n",
    "\n",
    "print(word_to_idx['good'])\n",
    "print(idx_to_word[0])"
   ]
  },
  {
   "cell_type": "code",
   "execution_count": 5,
   "id": "f1574103-d899-4ea0-b3bf-ce2d2a419d5d",
   "metadata": {},
   "outputs": [],
   "source": [
    "#each input to the RNN is a vector -> need to represent our vocab as one-hot vectors \n",
    "#contain all zeros except for a single one. The “one” is at the word’s corresponding integer index.\n",
    "\n",
    "def createInputs(text):\n",
    "    '''\n",
    "    Returns an array of one-hot vectors representing the words\n",
    "    in the input text string.\n",
    "        - text is a string\n",
    "        - Each one-hot vector has shape (vocab_size, 1)\n",
    "    '''\n",
    "    inputs = []\n",
    "    for w in text.split(\" \"):\n",
    "        v = np.zeros((vocab_size, 1))\n",
    "        v[word_to_idx[w]] = 1\n",
    "        inputs.append(v)\n",
    "    return inputs"
   ]
  },
  {
   "attachments": {
    "87acf844-669e-4df4-b56a-3a3a3529d34c.png": {
     "image/png": "[encoded data removed]"
    },
    "8d8f6c0e-9e99-4e47-992e-a708628ccdea.png": {
     "image/png": "[encoded data removed]"
    }
   },
   "cell_type": "markdown",
   "id": "9d3dda95-172f-4f7b-a26e-9ba05d16d94a",
   "metadata": {},
   "source": [
    "![image.png](attachment:87acf844-669e-4df4-b56a-3a3a3529d34c.png)![image.png](attachment:8d8f6c0e-9e99-4e47-992e-a708628ccdea.png)"
   ]
  },
  {
   "cell_type": "code",
   "execution_count": 92,
   "id": "f9da3f15-39de-467f-a366-48790f9e80d6",
   "metadata": {},
   "outputs": [],
   "source": [
    "from numpy.random import randn\n",
    "\n",
    "class RNN:\n",
    "    \n",
    "    def __init__(self, input_size, output_size, hidden_size=64):\n",
    "        #initialize weights\n",
    "        self.Whh = randn(hidden_size, hidden_size) / 1000 #weight matrix for hidden-to-hidden connections\n",
    "        self.Wxh = randn(hidden_size, input_size) / 1000 #weight matrix for input-to-hidden connections\n",
    "        self.Why = randn(output_size, hidden_size) / 1000 #weight matrix for hidden-to-output connections\n",
    "\n",
    "        #initialize biases (usually set to zero)\n",
    "        self.bh = np.zeros((hidden_size, 1))\n",
    "        self.by = np.zeros((output_size, 1))\n",
    "\n",
    "    def forward(self, inputs):\n",
    "        '''\n",
    "        Perform a forward pass of the RNN using the given inputs.\n",
    "        Returns the final output and hidden state.\n",
    "            - inputs is an array of one-hot vectors with shape (input_size, 1).\n",
    "        '''\n",
    "        h = np.zeros((self.Whh.shape[0], 1)) #hidden state vector (same dim as weight matrix). Initialized to zeros.\n",
    "        \n",
    "        #multiply inputs by weights (use @ for matrix mulitiplication), add bias, apply activation function (tanh)\n",
    "        for i, x in enumerate(inputs):\n",
    "            # x:  A single one-hot input vector (shape (input_size, 1)).\n",
    "            h = np.tanh(self.Wxh @ x + self.Whh @ h + self.bh)\n",
    "            #self.Wxh @ x: contribution of the current input to the new hidden state.\n",
    "            #self.Whh @ h: contribution of the previous hidden state to the new hidden state.\n",
    "        #calculate output\n",
    "        y = self.Why @ h + self.by\n",
    "        return y, h\n",
    "\n",
    "def softmax(xs):\n",
    "    # Applies the Softmax Function to the input array.\n",
    "    return np.exp(xs) / sum(np.exp(xs))"
   ]
  },
  {
   "cell_type": "code",
   "execution_count": 94,
   "id": "83867e27-34e1-48c4-8a64-f6ed6f321cff",
   "metadata": {},
   "outputs": [
    {
     "name": "stdout",
     "output_type": "stream",
     "text": [
      "[[0.50000044]\n",
      " [0.49999956]]\n"
     ]
    }
   ],
   "source": [
    "# Initialize RNN\n",
    "rnn = RNN(vocab_size, 2)\n",
    "\n",
    "inputs = createInputs('i am very good')\n",
    "out, h = rnn.forward(inputs)\n",
    "probs = softmax(out)\n",
    "print(probs)"
   ]
  },
  {
   "cell_type": "markdown",
   "id": "ac4cd244-12aa-47e0-96d5-3949082766f4",
   "metadata": {},
   "source": [
    "## Train RNN"
   ]
  },
  {
   "cell_type": "code",
   "execution_count": 7,
   "id": "193caf88-17b1-4038-b1be-e0bd499577a7",
   "metadata": {},
   "outputs": [],
   "source": [
    "from numpy.random import randn\n",
    "\n",
    "class RNN:\n",
    "    \n",
    "    def __init__(self, input_size, output_size, hidden_size=64):\n",
    "        #initialize weights\n",
    "        self.Whh = randn(hidden_size, hidden_size) / 1000 #weight matrix for hidden-to-hidden connections\n",
    "        self.Wxh = randn(hidden_size, input_size) / 1000 #weight matrix for input-to-hidden connections\n",
    "        self.Why = randn(output_size, hidden_size) / 1000 #weight matrix for hidden-to-output connections\n",
    "\n",
    "        #initialize biases (usually set to zero)\n",
    "        self.bh = np.zeros((hidden_size, 1))\n",
    "        self.by = np.zeros((output_size, 1))\n",
    "\n",
    "    def forward(self, inputs):\n",
    "        '''\n",
    "        Perform a forward pass of the RNN using the given inputs.\n",
    "        Returns the final output and hidden state.\n",
    "            - inputs is an array of one-hot vectors with shape (input_size, 1).\n",
    "        '''\n",
    "        h = np.zeros((self.Whh.shape[0], 1)) #hidden state vector (same dim as weight matrix). Initialized to zeros.\n",
    "        self.last_inputs = inputs #store for use in backprop\n",
    "        self.last_hs = {0: h} #store for use in backprop\n",
    "        \n",
    "        #multiply inputs by weights (use @ for matrix mulitiplication), add bias, apply activation function (tanh)\n",
    "        for i, x in enumerate(inputs):\n",
    "            # x:  A single one-hot input vector (shape (input_size, 1)).\n",
    "            h = np.tanh(self.Wxh @ x + self.Whh @ h + self.bh)\n",
    "            #self.Wxh @ x: contribution of the current input to the new hidden state.\n",
    "            #self.Whh @ h: contribution of the previous hidden state to the new hidden state.\n",
    "            \n",
    "            #store values of all hidden stats in tthe self.last_hs dict.\n",
    "            self.last_hs[i + 1] = h\n",
    "            \n",
    "        #calculate output\n",
    "        y = self.Why @ h + self.by\n",
    "        \n",
    "        return y, h\n",
    "\n",
    "    def backprop(self,d_y, learn_rate=2e-2):\n",
    "        '''\n",
    "        Perform a backward pass of the RNN.\n",
    "            - d_y (dL/dy) has shape (output_size, 1).\n",
    "            - learn_rate is a float.\n",
    "        '''\n",
    "        n = len(self.last_inputs)\n",
    "\n",
    "        # Calculate dL/dWhy and dL/dby.\n",
    "        d_Why = d_y @ self.last_hs[n].T\n",
    "        d_by = d_y\n",
    "\n",
    "        # Initialize dL/dWhh, dL/dWxh, and dL/dbh to zero.\n",
    "        d_Whh = np.zeros(self.Whh.shape)\n",
    "        d_Wxh = np.zeros(self.Wxh.shape)\n",
    "        d_bh = np.zeros(self.bh.shape)\n",
    "\n",
    "        # Calculate dL/dh for the last h.\n",
    "        d_h = self.Why.T @ d_y\n",
    "\n",
    "        # Backpropagate through time.\n",
    "        for t in reversed(range(n)):\n",
    "            # An intermediate value: dL/dh * (1 - h^2)\n",
    "            temp = ((1 - self.last_hs[t + 1] ** 2) * d_h)\n",
    "\n",
    "            # dL/db = dL/dh * (1 - h^2)\n",
    "            d_bh += temp\n",
    "\n",
    "            # dL/dWhh = dL/dh * (1 - h^2) * h_{t-1}\n",
    "            d_Whh += temp @ self.last_hs[t].T\n",
    "\n",
    "            # dL/dWxh = dL/dh * (1 - h^2) * x\n",
    "            d_Wxh += temp @ self.last_inputs[t].T\n",
    "\n",
    "            # Next dL/dh = dL/dh * (1 - h^2) * Whh\n",
    "            d_h = self.Whh @ temp\n",
    "\n",
    "        # Clip to prevent exploding gradients.\n",
    "        for d in [d_Wxh, d_Whh, d_Why, d_bh, d_by]:\n",
    "            np.clip(d, -1, 1, out=d) #values below -1 or above 1 are clipped. This helps mitigate the exploding gradient problem\n",
    "\n",
    "            # Update weights and biases using gradient descent.\n",
    "            self.Whh -= learn_rate * d_Whh\n",
    "            self.Wxh -= learn_rate * d_Wxh\n",
    "            self.Why -= learn_rate * d_Why\n",
    "            self.bh -= learn_rate * d_bh\n",
    "            self.by -= learn_rate * d_by\n",
    "\n",
    "def softmax(xs):\n",
    "    # Applies the Softmax Function to the input array.\n",
    "    return np.exp(xs) / sum(np.exp(xs))"
   ]
  },
  {
   "cell_type": "code",
   "execution_count": 51,
   "id": "25c3c174-f1e9-4554-bba5-41523704d2c2",
   "metadata": {},
   "outputs": [],
   "source": [
    "import random\n",
    "\n",
    "def processData(data, backprop=True):\n",
    "    '''\n",
    "    Helper function. Returns the RNN's loss and accuracy for the given data.\n",
    "    - data is a dictionary mapping text to True or False.\n",
    "    - backprop determines if the backward phase should be run.\n",
    "    '''\n",
    "    items = list(data.items())\n",
    "    random.shuffle(items)\n",
    "\n",
    "    loss_sum = 0  # Accumulate loss\n",
    "    num_correct = 0\n",
    "\n",
    "    for x, y in items:\n",
    "        inputs = createInputs(x)\n",
    "        target = int(y)\n",
    "\n",
    "        # Forward\n",
    "        out, _ = rnn.forward(inputs)\n",
    "        probs = softmax(out)\n",
    "\n",
    "        # Calculate loss / accuracy\n",
    "        loss_sum -= np.log(probs[target, 0])  # Access scalar value\n",
    "        num_correct += int(np.argmax(probs) == target)\n",
    "\n",
    "        if backprop:\n",
    "            # Build dL/dy\n",
    "            d_L_d_y = probs.copy()  # Create a copy to avoid modifying probs directly\n",
    "            d_L_d_y[target, 0] -= 1  #  Important:  Subtract 1 from the correct element *and* ensure it is a scalar.\n",
    "\n",
    "            # Backward\n",
    "            rnn.backprop(d_L_d_y)\n",
    "\n",
    "    # Return the *average* loss and accuracy over the dataset.\n",
    "    return loss_sum / len(data), num_correct / len(data)"
   ]
  },
  {
   "cell_type": "code",
   "execution_count": 53,
   "id": "395efc8d-585a-4634-b33b-05c6130c9d5a",
   "metadata": {},
   "outputs": [],
   "source": [
    "#initialize rnn\n",
    "rnn = RNN(vocab_size, 2)"
   ]
  },
  {
   "cell_type": "code",
   "execution_count": 55,
   "id": "e6f8eadf-bf0f-49bc-9851-a6f9d443de2f",
   "metadata": {},
   "outputs": [
    {
     "name": "stdout",
     "output_type": "stream",
     "text": [
      "--- Epoch 100\n",
      "Train:\tLoss 0.683 | Accuracy: 0.569\n",
      "Test:\tLoss 0.756 | Accuracy: 0.500\n",
      "--- Epoch 200\n",
      "Train:\tLoss 0.010 | Accuracy: 1.000\n",
      "Test:\tLoss 0.009 | Accuracy: 1.000\n",
      "--- Epoch 300\n",
      "Train:\tLoss 0.002 | Accuracy: 1.000\n",
      "Test:\tLoss 0.002 | Accuracy: 1.000\n",
      "--- Epoch 400\n",
      "Train:\tLoss 0.001 | Accuracy: 1.000\n",
      "Test:\tLoss 0.001 | Accuracy: 1.000\n",
      "--- Epoch 500\n",
      "Train:\tLoss 0.001 | Accuracy: 1.000\n",
      "Test:\tLoss 0.001 | Accuracy: 1.000\n",
      "--- Epoch 600\n",
      "Train:\tLoss 0.000 | Accuracy: 1.000\n",
      "Test:\tLoss 0.001 | Accuracy: 1.000\n",
      "--- Epoch 700\n",
      "Train:\tLoss 0.000 | Accuracy: 1.000\n",
      "Test:\tLoss 0.000 | Accuracy: 1.000\n",
      "--- Epoch 800\n",
      "Train:\tLoss 0.000 | Accuracy: 1.000\n",
      "Test:\tLoss 0.000 | Accuracy: 1.000\n",
      "--- Epoch 900\n",
      "Train:\tLoss 0.000 | Accuracy: 1.000\n",
      "Test:\tLoss 0.000 | Accuracy: 1.000\n",
      "--- Epoch 1000\n",
      "Train:\tLoss 0.000 | Accuracy: 1.000\n",
      "Test:\tLoss 0.000 | Accuracy: 1.000\n"
     ]
    }
   ],
   "source": [
    "# Training loop\n",
    "for epoch in range(1000):\n",
    "  train_loss, train_acc = processData(train_data)\n",
    "\n",
    "  if epoch % 100 == 99:\n",
    "    print(f'--- Epoch {epoch + 1}')\n",
    "    print(f'Train:\\tLoss {train_loss:.3f} | Accuracy: {train_acc:.3f}')\n",
    "\n",
    "    test_loss, test_acc = processData(test_data, backprop=False)\n",
    "    print(f'Test:\\tLoss {test_loss:.3f} | Accuracy: {test_acc:.3f}')"
   ]
  }
 ],
 "metadata": {
  "kernelspec": {
   "display_name": "DLG",
   "language": "python",
   "name": "dlg"
  },
  "language_info": {
   "codemirror_mode": {
    "name": "ipython",
    "version": 3
   },
   "file_extension": ".py",
   "mimetype": "text/x-python",
   "name": "python",
   "nbconvert_exporter": "python",
   "pygments_lexer": "ipython3",
   "version": "3.12.2"
  }
 },
 "nbformat": 4,
 "nbformat_minor": 5
}
